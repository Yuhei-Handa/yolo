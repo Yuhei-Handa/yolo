{
 "cells": [
  {
   "cell_type": "code",
   "execution_count": 15,
   "metadata": {},
   "outputs": [],
   "source": [
    "import numpy as np\n",
    "import cv2\n",
    "from glob import glob\n",
    "import os\n",
    "\n",
    "\n",
    "\n",
    "\n",
    "#動画からフレーム画像を抽出する関数\n",
    "#一つの動画から任意の数のフレームを抽出する\n",
    "def output_frame(num_frame):\n",
    "\n",
    "    data_dir = './output'\n",
    "\n",
    "    wake_video_dir_list = glob(os.path.join(data_dir, 'wake', 'video') + '/*.mp4')\n",
    "    sleep_video_dir_list = glob(os.path.join(data_dir, 'sleep', 'video') + '/*.mp4')\n",
    "\n",
    "    train_rate = 0.8\n",
    "    valid_rate = 0.2\n",
    "\n",
    "    num_data = len(wake_video_dir_list) #動画の数は起床と睡眠で同じ\n",
    "\n",
    "    #データの分割\n",
    "    train_num = int(num_data * train_rate)\n",
    "    valid_num = int(train_num * valid_rate)\n",
    "    train_num = train_num - valid_num\n",
    "    test_num = num_data - train_num - valid_num\n",
    "\n",
    "    wake_train = wake_video_dir_list[:train_num]\n",
    "    wake_valid = wake_video_dir_list[train_num:train_num+valid_num]\n",
    "    wake_test = wake_video_dir_list[train_num+valid_num:]\n",
    "\n",
    "    sleep_train = sleep_video_dir_list[:train_num]\n",
    "    sleep_valid = sleep_video_dir_list[train_num:train_num+valid_num]\n",
    "    sleep_test = sleep_video_dir_list[train_num+valid_num:]\n",
    "\n",
    "    #画像ファイルの出力先   \n",
    "    train_frame_dir = os.path.join('train', 'images')\n",
    "    valid_frame_dir = os.path.join('valid', 'images')\n",
    "    test_frame_dir = os.path.join('test', 'images')\n",
    "\n",
    "    print('フレーム画像の出力を開始します。')\n",
    "\n",
    "    #動画ファイルをフレーム画像に変換\n",
    "\n",
    "    #訓練データ\n",
    "    video2frame(wake_train, train_frame_dir, num_frame, is_wake=True)\n",
    "    video2frame(sleep_train, train_frame_dir, num_frame, is_wake=False)\n",
    "\n",
    "    #検証データ\n",
    "    video2frame(wake_valid, valid_frame_dir, num_frame, is_wake=True)\n",
    "    video2frame(sleep_valid, valid_frame_dir, num_frame, is_wake=False)\n",
    "\n",
    "    #テストデータ\n",
    "    video2frame(wake_test, test_frame_dir, num_frame, is_wake=True)\n",
    "    video2frame(sleep_test, test_frame_dir, num_frame, is_wake=False)\n",
    "\n",
    "\n",
    "    print('フレーム画像の出力が完了しました。')\n",
    "\n",
    "\n",
    "#動画からフレーム画像を等間隔に抽出する関数\n",
    "def video2frame(video_dir_list, frame_dir, num_frame=10, is_wake=True):\n",
    "    for video_dir in video_dir_list:\n",
    "        cap = cv2.VideoCapture(video_dir)\n",
    "        if not cap.isOpened():\n",
    "            print('Error: Could not open video.')\n",
    "            return\n",
    "\n",
    "        frame_num = int(cap.get(cv2.CAP_PROP_FRAME_COUNT))\n",
    "        frame_rate = int(frame_num / num_frame)\n",
    "\n",
    "        for i in range(num_frame):\n",
    "            cap.set(cv2.CAP_PROP_POS_FRAMES, i * frame_rate)\n",
    "            ret, frame = cap.read()\n",
    "            if ret:\n",
    "                if is_wake:\n",
    "                    frame_name = 'wake_' + os.path.basename(video_dir) + '_frame' + '_wake_' + str(i) + '.jpg'\n",
    "                else:\n",
    "                    frame_name = 'sleep_' + os.path.basename(video_dir) + '_frame' + '_sleep_' + str(i) + '.jpg'\n",
    "                frame_path = os.path.join(frame_dir, frame_name)\n",
    "                cv2.imwrite(frame_path, frame)\n",
    "            else:\n",
    "                print('Error: Could not read frame.')\n",
    "                break\n",
    "\n",
    "\n",
    "        cap.release()"
   ]
  },
  {
   "cell_type": "code",
   "execution_count": 16,
   "metadata": {},
   "outputs": [
    {
     "name": "stdout",
     "output_type": "stream",
     "text": [
      "フレーム画像の出力を開始します。\n",
      "フレーム画像の出力が完了しました。\n"
     ]
    }
   ],
   "source": [
    "output_frame(50)"
   ]
  }
 ],
 "metadata": {
  "kernelspec": {
   "display_name": "pytorch_env",
   "language": "python",
   "name": "python3"
  },
  "language_info": {
   "codemirror_mode": {
    "name": "ipython",
    "version": 3
   },
   "file_extension": ".py",
   "mimetype": "text/x-python",
   "name": "python",
   "nbconvert_exporter": "python",
   "pygments_lexer": "ipython3",
   "version": "3.10.13"
  }
 },
 "nbformat": 4,
 "nbformat_minor": 2
}
